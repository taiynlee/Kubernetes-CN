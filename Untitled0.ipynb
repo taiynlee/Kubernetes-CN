{
  "nbformat": 4,
  "nbformat_minor": 0,
  "metadata": {
    "colab": {
      "name": "Untitled0.ipynb",
      "provenance": [],
      "collapsed_sections": [],
      "authorship_tag": "ABX9TyMDnDJfm6MJ+Otrw1001Li9",
      "include_colab_link": true
    },
    "kernelspec": {
      "name": "python3",
      "display_name": "Python 3"
    }
  },
  "cells": [
    {
      "cell_type": "markdown",
      "metadata": {
        "id": "view-in-github",
        "colab_type": "text"
      },
      "source": [
        "<a href=\"https://colab.research.google.com/github/taiynlee/Kubernetes-CN/blob/master/Untitled0.ipynb\" target=\"_parent\"><img src=\"https://colab.research.google.com/assets/colab-badge.svg\" alt=\"Open In Colab\"/></a>"
      ]
    },
    {
      "cell_type": "code",
      "metadata": {
        "id": "V1vBjfdgLzSt",
        "colab_type": "code",
        "colab": {}
      },
      "source": [
        "# 分詞(CUT)\n",
        "# TF-IDF關鍵詞抽取 次數多重要 常用度多不重要\n",
        "# 取log的用意在乘除轉加減 loga*b=loga+logb\n",
        "s=\"\"\"台灣市區房價居高不下，許多為了工作到外地打拚的小資族，便會選擇套房式租屋，節省日常的開銷。但是房客和房東間的糾紛時有所聞，讓許多人大嘆能夠遇到好房東或好房客，真的是需要上輩子燒了好香。有女網友就公佈自己與房東的對話截圖，房東要求原則上每週只能洗一次衣服，讓她好傻眼。\n",
        "\n",
        "有位女網友在「爆料公社」臉書公布了自己與房東的對話，直言「房東要求衣服一週只能洗一次，這樣合理嗎？重點這是夏天不是冬天，我也有繳電費跟管理費啊？」\n",
        "\n",
        "而從原 PO 公佈的對話中可以看見，房東表示「原則上」每週只能洗一次衣服，若想隨時洗衣服就要補貼水電費，讓原 PO 傻眼回應「衣服放一個禮拜不會臭嗎」、「女生有這麼髒的？」房東則是反問「那你要洗幾次」，兩人隨後又講到其他日常生活相處的細節，看起來原 PO 租的套房是與房東合住的那種，且雙方平常早有累積許多摩擦。\n",
        "\n",
        "\"\"\""
      ],
      "execution_count": 0,
      "outputs": []
    },
    {
      "cell_type": "code",
      "metadata": {
        "id": "7ymXY0lmOZl0",
        "colab_type": "code",
        "colab": {
          "base_uri": "https://localhost:8080/",
          "height": 425
        },
        "outputId": "90021687-211e-4011-84d8-dea263713778"
      },
      "source": [
        "import jieba.analyse\n",
        "jieba.analyse.extract_tags(s)"
      ],
      "execution_count": 2,
      "outputs": [
        {
          "output_type": "stream",
          "text": [
            "Building prefix dict from the default dictionary ...\n",
            "Dumping model to file cache /tmp/jieba.cache\n",
            "Loading model cost 0.803 seconds.\n",
            "Prefix dict has been built successfully.\n"
          ],
          "name": "stderr"
        },
        {
          "output_type": "execute_result",
          "data": {
            "text/plain": [
              "['房東',\n",
              " 'PO',\n",
              " '衣服',\n",
              " '許多',\n",
              " '網友',\n",
              " '原則',\n",
              " '每週',\n",
              " '傻眼',\n",
              " '房客',\n",
              " '套房',\n",
              " '只能',\n",
              " '一次',\n",
              " '租屋',\n",
              " '台灣',\n",
              " '市區',\n",
              " '房價',\n",
              " '許多為',\n",
              " '小資族',\n",
              " '便會',\n",
              " '選擇']"
            ]
          },
          "metadata": {
            "tags": []
          },
          "execution_count": 2
        }
      ]
    },
    {
      "cell_type": "code",
      "metadata": {
        "id": "znki--PuOhGv",
        "colab_type": "code",
        "colab": {
          "base_uri": "https://localhost:8080/",
          "height": 54
        },
        "outputId": "3f1a2908-cc35-400d-adeb-28d8266b5b0c"
      },
      "source": [
        "\" \".join(jieba.cut(s))"
      ],
      "execution_count": 3,
      "outputs": [
        {
          "output_type": "execute_result",
          "data": {
            "text/plain": [
              "'台灣 市區 房價 居高不下 ， 許多為 了 工作 到 外地 打 拚 的 小資族 ， 便會 選擇 套房 式 租屋 ， 節省 日常 的 開銷 。 但是 房客 和 房東間 的 糾紛 時 有所 聞 ， 讓 許多 人大 嘆 能夠 遇到 好 房東 或 好 房客 ， 真的 是 需要 上輩子燒 了 好 香 。 有 女 網友 就 公 佈 自己 與 房東 的 對 話 截圖 ， 房東 要求 原則 上 每週 只能 洗 一次 衣服 ， 讓 她 好 傻眼 。 \\n \\n 有位 女 網友 在 「 爆料 公社 」 臉書 公布 了 自己 與 房東 的 對 話 ， 直言 「 房東 要求 衣服 一週 只能 洗 一次 ， 這樣 合理 嗎 ？ 重點 這是 夏天 不是 冬天 ， 我 也 有 繳電費 跟 管理 費啊 ？ 」 \\n \\n 而 從 原   PO   公 佈 的 對 話 中 可以 看見 ， 房東 表示 「 原則 上 」 每週 只能 洗 一次 衣服 ， 若想 隨時 洗衣服 就要 補貼 水電費 ， 讓 原   PO   傻眼 回應 「 衣服 放一個 禮拜 不會 臭 嗎 」 、 「 女生 有 這 麼 髒 的 ？ 」 房東則 是 反問 「 那 你 要 洗 幾次 」 ， 兩人 隨後又講 到 其他 日常生活 相處 的 細節 ， 看起 來 原   PO   租 的 套房 是 與 房東 合住 的 那種 ， 且 雙方 平常 早有 累積 許多 摩擦 。 \\n \\n'"
            ]
          },
          "metadata": {
            "tags": []
          },
          "execution_count": 3
        }
      ]
    },
    {
      "cell_type": "code",
      "metadata": {
        "id": "lCurrvakOy9o",
        "colab_type": "code",
        "colab": {
          "base_uri": "https://localhost:8080/",
          "height": 425
        },
        "outputId": "9f6d1281-a65b-47ce-81a7-359d18858878"
      },
      "source": [
        "from urllib.request import urlretrieve\n",
        "url=\"https://github.com/fxsjy/jieba/raw/master/extra_dict/dict.txt.big\"\n",
        "urlretrieve(url,\"dict.big\")\n",
        "# 換成大的詞集\n",
        "jieba.set_dictionary(\"dict.big\")\n",
        "# 加入自定義的詞集 直接拉集colab裏\n",
        "jieba.load_userdict(\"mydict.txt\")\n",
        "\" \".join(jieba.cut(s))"
      ],
      "execution_count": 7,
      "outputs": [
        {
          "output_type": "stream",
          "text": [
            "Building prefix dict from /content/dict.big ...\n",
            "Dumping model to file cache /tmp/jieba.u07306b11e64fa1786267fcd71f361dde.cache\n",
            "Loading model cost 1.417 seconds.\n",
            "Prefix dict has been built successfully.\n"
          ],
          "name": "stderr"
        },
        {
          "output_type": "execute_result",
          "data": {
            "text/plain": [
              "['房東',\n",
              " '許多',\n",
              " '對話',\n",
              " 'PO',\n",
              " '衣服',\n",
              " '女網友',\n",
              " '公佈',\n",
              " '原則上',\n",
              " '每週',\n",
              " '傻眼',\n",
              " '房客',\n",
              " '套房',\n",
              " '只能',\n",
              " '一次',\n",
              " '租屋',\n",
              " '台灣',\n",
              " '市區',\n",
              " '房價',\n",
              " '為了',\n",
              " '小資']"
            ]
          },
          "metadata": {
            "tags": []
          },
          "execution_count": 7
        }
      ]
    },
    {
      "cell_type": "code",
      "metadata": {
        "id": "xcNlAQU8FLa2",
        "colab_type": "code",
        "colab": {
          "base_uri": "https://localhost:8080/",
          "height": 357
        },
        "outputId": "925e80ca-5a43-487b-9767-f400e656f1d3"
      },
      "source": [
        "jieba.analyse.extract_tags(s)"
      ],
      "execution_count": 8,
      "outputs": [
        {
          "output_type": "execute_result",
          "data": {
            "text/plain": [
              "['房東',\n",
              " '許多',\n",
              " '對話',\n",
              " 'PO',\n",
              " '衣服',\n",
              " '女網友',\n",
              " '公佈',\n",
              " '原則上',\n",
              " '每週',\n",
              " '傻眼',\n",
              " '房客',\n",
              " '套房',\n",
              " '只能',\n",
              " '一次',\n",
              " '租屋',\n",
              " '台灣',\n",
              " '市區',\n",
              " '房價',\n",
              " '為了',\n",
              " '小資']"
            ]
          },
          "metadata": {
            "tags": []
          },
          "execution_count": 8
        }
      ]
    },
    {
      "cell_type": "code",
      "metadata": {
        "id": "LgFZPK92FNF7",
        "colab_type": "code",
        "colab": {}
      },
      "source": [
        ""
      ],
      "execution_count": 0,
      "outputs": []
    }
  ]
}